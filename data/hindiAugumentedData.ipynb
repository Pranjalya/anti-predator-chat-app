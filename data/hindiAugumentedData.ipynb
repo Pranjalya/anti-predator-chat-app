{
  "nbformat": 4,
  "nbformat_minor": 0,
  "metadata": {
    "colab": {
      "name": "hindiAugumentedData.ipynb",
      "provenance": [],
      "collapsed_sections": []
    },
    "kernelspec": {
      "name": "python3",
      "display_name": "Python 3"
    },
    "widgets": {
      "application/vnd.jupyter.widget-state+json": {
        "b4454747315341479a9f25a4c19ce071": {
          "model_module": "@jupyter-widgets/controls",
          "model_name": "HBoxModel",
          "state": {
            "_view_name": "HBoxView",
            "_dom_classes": [],
            "_model_name": "HBoxModel",
            "_view_module": "@jupyter-widgets/controls",
            "_model_module_version": "1.5.0",
            "_view_count": null,
            "_view_module_version": "1.5.0",
            "box_style": "",
            "layout": "IPY_MODEL_b2683be1b1bb4e6b97739b6419e04c9d",
            "_model_module": "@jupyter-widgets/controls",
            "children": [
              "IPY_MODEL_be106497051f46a8b687491061179d38",
              "IPY_MODEL_c794f1b272884c2385417b0f00ec34ce"
            ]
          }
        },
        "b2683be1b1bb4e6b97739b6419e04c9d": {
          "model_module": "@jupyter-widgets/base",
          "model_name": "LayoutModel",
          "state": {
            "_view_name": "LayoutView",
            "grid_template_rows": null,
            "right": null,
            "justify_content": null,
            "_view_module": "@jupyter-widgets/base",
            "overflow": null,
            "_model_module_version": "1.2.0",
            "_view_count": null,
            "flex_flow": null,
            "width": null,
            "min_width": null,
            "border": null,
            "align_items": null,
            "bottom": null,
            "_model_module": "@jupyter-widgets/base",
            "top": null,
            "grid_column": null,
            "overflow_y": null,
            "overflow_x": null,
            "grid_auto_flow": null,
            "grid_area": null,
            "grid_template_columns": null,
            "flex": null,
            "_model_name": "LayoutModel",
            "justify_items": null,
            "grid_row": null,
            "max_height": null,
            "align_content": null,
            "visibility": null,
            "align_self": null,
            "height": null,
            "min_height": null,
            "padding": null,
            "grid_auto_rows": null,
            "grid_gap": null,
            "max_width": null,
            "order": null,
            "_view_module_version": "1.2.0",
            "grid_template_areas": null,
            "object_position": null,
            "object_fit": null,
            "grid_auto_columns": null,
            "margin": null,
            "display": null,
            "left": null
          }
        },
        "be106497051f46a8b687491061179d38": {
          "model_module": "@jupyter-widgets/controls",
          "model_name": "FloatProgressModel",
          "state": {
            "_view_name": "ProgressView",
            "style": "IPY_MODEL_eaac64758d7d4ab98811b44e9bf4d7b7",
            "_dom_classes": [],
            "description": "",
            "_model_name": "FloatProgressModel",
            "bar_style": "success",
            "max": 1,
            "_view_module": "@jupyter-widgets/controls",
            "_model_module_version": "1.5.0",
            "value": 0,
            "_view_count": null,
            "_view_module_version": "1.5.0",
            "orientation": "horizontal",
            "min": 0,
            "description_tooltip": null,
            "_model_module": "@jupyter-widgets/controls",
            "layout": "IPY_MODEL_1f429b05cc404e778ba5735a4582795e"
          }
        },
        "c794f1b272884c2385417b0f00ec34ce": {
          "model_module": "@jupyter-widgets/controls",
          "model_name": "HTMLModel",
          "state": {
            "_view_name": "HTMLView",
            "style": "IPY_MODEL_d45451e4033140408e2360f1290a86a2",
            "_dom_classes": [],
            "description": "",
            "_model_name": "HTMLModel",
            "placeholder": "​",
            "_view_module": "@jupyter-widgets/controls",
            "_model_module_version": "1.5.0",
            "value": " 0/? [00:02&lt;?, ?it/s]",
            "_view_count": null,
            "_view_module_version": "1.5.0",
            "description_tooltip": null,
            "_model_module": "@jupyter-widgets/controls",
            "layout": "IPY_MODEL_fbb4602396164294add5fd5d31e7c9d8"
          }
        },
        "eaac64758d7d4ab98811b44e9bf4d7b7": {
          "model_module": "@jupyter-widgets/controls",
          "model_name": "ProgressStyleModel",
          "state": {
            "_view_name": "StyleView",
            "_model_name": "ProgressStyleModel",
            "description_width": "initial",
            "_view_module": "@jupyter-widgets/base",
            "_model_module_version": "1.5.0",
            "_view_count": null,
            "_view_module_version": "1.2.0",
            "bar_color": null,
            "_model_module": "@jupyter-widgets/controls"
          }
        },
        "1f429b05cc404e778ba5735a4582795e": {
          "model_module": "@jupyter-widgets/base",
          "model_name": "LayoutModel",
          "state": {
            "_view_name": "LayoutView",
            "grid_template_rows": null,
            "right": null,
            "justify_content": null,
            "_view_module": "@jupyter-widgets/base",
            "overflow": null,
            "_model_module_version": "1.2.0",
            "_view_count": null,
            "flex_flow": null,
            "width": null,
            "min_width": null,
            "border": null,
            "align_items": null,
            "bottom": null,
            "_model_module": "@jupyter-widgets/base",
            "top": null,
            "grid_column": null,
            "overflow_y": null,
            "overflow_x": null,
            "grid_auto_flow": null,
            "grid_area": null,
            "grid_template_columns": null,
            "flex": null,
            "_model_name": "LayoutModel",
            "justify_items": null,
            "grid_row": null,
            "max_height": null,
            "align_content": null,
            "visibility": null,
            "align_self": null,
            "height": null,
            "min_height": null,
            "padding": null,
            "grid_auto_rows": null,
            "grid_gap": null,
            "max_width": null,
            "order": null,
            "_view_module_version": "1.2.0",
            "grid_template_areas": null,
            "object_position": null,
            "object_fit": null,
            "grid_auto_columns": null,
            "margin": null,
            "display": null,
            "left": null
          }
        },
        "d45451e4033140408e2360f1290a86a2": {
          "model_module": "@jupyter-widgets/controls",
          "model_name": "DescriptionStyleModel",
          "state": {
            "_view_name": "StyleView",
            "_model_name": "DescriptionStyleModel",
            "description_width": "",
            "_view_module": "@jupyter-widgets/base",
            "_model_module_version": "1.5.0",
            "_view_count": null,
            "_view_module_version": "1.2.0",
            "_model_module": "@jupyter-widgets/controls"
          }
        },
        "fbb4602396164294add5fd5d31e7c9d8": {
          "model_module": "@jupyter-widgets/base",
          "model_name": "LayoutModel",
          "state": {
            "_view_name": "LayoutView",
            "grid_template_rows": null,
            "right": null,
            "justify_content": null,
            "_view_module": "@jupyter-widgets/base",
            "overflow": null,
            "_model_module_version": "1.2.0",
            "_view_count": null,
            "flex_flow": null,
            "width": null,
            "min_width": null,
            "border": null,
            "align_items": null,
            "bottom": null,
            "_model_module": "@jupyter-widgets/base",
            "top": null,
            "grid_column": null,
            "overflow_y": null,
            "overflow_x": null,
            "grid_auto_flow": null,
            "grid_area": null,
            "grid_template_columns": null,
            "flex": null,
            "_model_name": "LayoutModel",
            "justify_items": null,
            "grid_row": null,
            "max_height": null,
            "align_content": null,
            "visibility": null,
            "align_self": null,
            "height": null,
            "min_height": null,
            "padding": null,
            "grid_auto_rows": null,
            "grid_gap": null,
            "max_width": null,
            "order": null,
            "_view_module_version": "1.2.0",
            "grid_template_areas": null,
            "object_position": null,
            "object_fit": null,
            "grid_auto_columns": null,
            "margin": null,
            "display": null,
            "left": null
          }
        },
        "853b5909296047dbbb4ded931d9e70d9": {
          "model_module": "@jupyter-widgets/controls",
          "model_name": "HBoxModel",
          "state": {
            "_view_name": "HBoxView",
            "_dom_classes": [],
            "_model_name": "HBoxModel",
            "_view_module": "@jupyter-widgets/controls",
            "_model_module_version": "1.5.0",
            "_view_count": null,
            "_view_module_version": "1.5.0",
            "box_style": "",
            "layout": "IPY_MODEL_63570953d359449c868a399f4f24c5eb",
            "_model_module": "@jupyter-widgets/controls",
            "children": [
              "IPY_MODEL_dc04786242464b27b098e9265a83079c",
              "IPY_MODEL_2f0245532ea045f6be35d06bd11f4bea"
            ]
          }
        }
      }
    }
  },
  "cells": [
    {
      "cell_type": "code",
      "metadata": {
        "id": "IixjOFs1xOk6",
        "colab_type": "code",
        "colab": {
          "base_uri": "https://localhost:8080/",
          "height": 90
        },
        "outputId": "23415fbc-393d-4ea9-fede-6fcd63e4b135"
      },
      "source": [
        "!gdown -O complete.csv https://drive.google.com/uc?id=1CRNR_rMLuu5lQpZkBTSsni43vk3cDAyx"
      ],
      "execution_count": null,
      "outputs": [
        {
          "output_type": "stream",
          "text": [
            "Downloading...\n",
            "From: https://drive.google.com/uc?id=1CRNR_rMLuu5lQpZkBTSsni43vk3cDAyx\n",
            "To: /content/complete.csv\n",
            "105MB [00:01, 94.0MB/s] \n"
          ],
          "name": "stdout"
        }
      ]
    },
    {
      "cell_type": "code",
      "metadata": {
        "id": "ORwIglfvxTX5",
        "colab_type": "code",
        "colab": {}
      },
      "source": [
        "import pandas as pd"
      ],
      "execution_count": null,
      "outputs": []
    },
    {
      "cell_type": "code",
      "metadata": {
        "id": "iJZJdZiZy55Z",
        "colab_type": "code",
        "colab": {}
      },
      "source": [
        "df = pd.read_csv('/content/complete.csv')"
      ],
      "execution_count": null,
      "outputs": []
    },
    {
      "cell_type": "code",
      "metadata": {
        "id": "Iq4Wnxw3y_XD",
        "colab_type": "code",
        "colab": {
          "base_uri": "https://localhost:8080/",
          "height": 652
        },
        "outputId": "251ccb38-7422-43b3-c08c-04ee884d172f"
      },
      "source": [
        "predator_df = df.query(\"predator_conversation==1\")\n",
        "predator_df"
      ],
      "execution_count": null,
      "outputs": [
        {
          "output_type": "execute_result",
          "data": {
            "text/html": [
              "<div>\n",
              "<style scoped>\n",
              "    .dataframe tbody tr th:only-of-type {\n",
              "        vertical-align: middle;\n",
              "    }\n",
              "\n",
              "    .dataframe tbody tr th {\n",
              "        vertical-align: top;\n",
              "    }\n",
              "\n",
              "    .dataframe thead th {\n",
              "        text-align: right;\n",
              "    }\n",
              "</style>\n",
              "<table border=\"1\" class=\"dataframe\">\n",
              "  <thead>\n",
              "    <tr style=\"text-align: right;\">\n",
              "      <th></th>\n",
              "      <th>@id</th>\n",
              "      <th>@line</th>\n",
              "      <th>author</th>\n",
              "      <th>time</th>\n",
              "      <th>text</th>\n",
              "      <th>sequence</th>\n",
              "      <th>sexual_predator</th>\n",
              "      <th>predator_conversation</th>\n",
              "    </tr>\n",
              "  </thead>\n",
              "  <tbody>\n",
              "    <tr>\n",
              "      <th>510</th>\n",
              "      <td>fc77b9ed8d13697e8deea79de0b4df23</td>\n",
              "      <td>1</td>\n",
              "      <td>6f35a1f69fd4ae82056e4bc6a8a84575</td>\n",
              "      <td>23:56</td>\n",
              "      <td>hey</td>\n",
              "      <td>0.010</td>\n",
              "      <td>1</td>\n",
              "      <td>1</td>\n",
              "    </tr>\n",
              "    <tr>\n",
              "      <th>511</th>\n",
              "      <td>fc77b9ed8d13697e8deea79de0b4df23</td>\n",
              "      <td>2</td>\n",
              "      <td>5c5b806fbd1826340209616ddb9ed767</td>\n",
              "      <td>23:56</td>\n",
              "      <td>hi</td>\n",
              "      <td>0.021</td>\n",
              "      <td>0</td>\n",
              "      <td>1</td>\n",
              "    </tr>\n",
              "    <tr>\n",
              "      <th>512</th>\n",
              "      <td>fc77b9ed8d13697e8deea79de0b4df23</td>\n",
              "      <td>3</td>\n",
              "      <td>5c5b806fbd1826340209616ddb9ed767</td>\n",
              "      <td>23:57</td>\n",
              "      <td>feeling</td>\n",
              "      <td>0.031</td>\n",
              "      <td>0</td>\n",
              "      <td>1</td>\n",
              "    </tr>\n",
              "    <tr>\n",
              "      <th>513</th>\n",
              "      <td>fc77b9ed8d13697e8deea79de0b4df23</td>\n",
              "      <td>4</td>\n",
              "      <td>6f35a1f69fd4ae82056e4bc6a8a84575</td>\n",
              "      <td>23:57</td>\n",
              "      <td>little better</td>\n",
              "      <td>0.041</td>\n",
              "      <td>1</td>\n",
              "      <td>1</td>\n",
              "    </tr>\n",
              "    <tr>\n",
              "      <th>514</th>\n",
              "      <td>fc77b9ed8d13697e8deea79de0b4df23</td>\n",
              "      <td>5</td>\n",
              "      <td>5c5b806fbd1826340209616ddb9ed767</td>\n",
              "      <td>23:57</td>\n",
              "      <td>listening music</td>\n",
              "      <td>0.052</td>\n",
              "      <td>0</td>\n",
              "      <td>1</td>\n",
              "    </tr>\n",
              "    <tr>\n",
              "      <th>...</th>\n",
              "      <td>...</td>\n",
              "      <td>...</td>\n",
              "      <td>...</td>\n",
              "      <td>...</td>\n",
              "      <td>...</td>\n",
              "      <td>...</td>\n",
              "      <td>...</td>\n",
              "      <td>...</td>\n",
              "    </tr>\n",
              "    <tr>\n",
              "      <th>973999</th>\n",
              "      <td>wulfker_dragonslayer_13 year old girl</td>\n",
              "      <td>3589</td>\n",
              "      <td>wulfker_dragonslayer</td>\n",
              "      <td>01/20/07  1:29:08 PM</td>\n",
              "      <td>ok baby ill road</td>\n",
              "      <td>0.999</td>\n",
              "      <td>1</td>\n",
              "      <td>1</td>\n",
              "    </tr>\n",
              "    <tr>\n",
              "      <th>974000</th>\n",
              "      <td>wulfker_dragonslayer_13 year old girl</td>\n",
              "      <td>3590</td>\n",
              "      <td>13 year old girl</td>\n",
              "      <td>01/20/07  1:29:16 PM</td>\n",
              "      <td>okay luv much</td>\n",
              "      <td>0.999</td>\n",
              "      <td>0</td>\n",
              "      <td>1</td>\n",
              "    </tr>\n",
              "    <tr>\n",
              "      <th>974001</th>\n",
              "      <td>wulfker_dragonslayer_13 year old girl</td>\n",
              "      <td>3591</td>\n",
              "      <td>wulfker_dragonslayer</td>\n",
              "      <td>01/20/07  1:29:26 PM</td>\n",
              "      <td>baby</td>\n",
              "      <td>0.999</td>\n",
              "      <td>1</td>\n",
              "      <td>1</td>\n",
              "    </tr>\n",
              "    <tr>\n",
              "      <th>974002</th>\n",
              "      <td>wulfker_dragonslayer_13 year old girl</td>\n",
              "      <td>3592</td>\n",
              "      <td>13 year old girl</td>\n",
              "      <td>01/20/07  1:29:29 PM</td>\n",
              "      <td>bye</td>\n",
              "      <td>1.000</td>\n",
              "      <td>0</td>\n",
              "      <td>1</td>\n",
              "    </tr>\n",
              "    <tr>\n",
              "      <th>974003</th>\n",
              "      <td>wulfker_dragonslayer_13 year old girl</td>\n",
              "      <td>3593</td>\n",
              "      <td>wulfker_dragonslayer</td>\n",
              "      <td>01/20/07  1:29:37 PM</td>\n",
              "      <td>bye</td>\n",
              "      <td>1.000</td>\n",
              "      <td>1</td>\n",
              "      <td>1</td>\n",
              "    </tr>\n",
              "  </tbody>\n",
              "</table>\n",
              "<p>152200 rows × 8 columns</p>\n",
              "</div>"
            ],
            "text/plain": [
              "                                          @id  ...  predator_conversation\n",
              "510          fc77b9ed8d13697e8deea79de0b4df23  ...                      1\n",
              "511          fc77b9ed8d13697e8deea79de0b4df23  ...                      1\n",
              "512          fc77b9ed8d13697e8deea79de0b4df23  ...                      1\n",
              "513          fc77b9ed8d13697e8deea79de0b4df23  ...                      1\n",
              "514          fc77b9ed8d13697e8deea79de0b4df23  ...                      1\n",
              "...                                       ...  ...                    ...\n",
              "973999  wulfker_dragonslayer_13 year old girl  ...                      1\n",
              "974000  wulfker_dragonslayer_13 year old girl  ...                      1\n",
              "974001  wulfker_dragonslayer_13 year old girl  ...                      1\n",
              "974002  wulfker_dragonslayer_13 year old girl  ...                      1\n",
              "974003  wulfker_dragonslayer_13 year old girl  ...                      1\n",
              "\n",
              "[152200 rows x 8 columns]"
            ]
          },
          "metadata": {
            "tags": []
          },
          "execution_count": 13
        }
      ]
    },
    {
      "cell_type": "code",
      "metadata": {
        "id": "XMtbVz75IMnK",
        "colab_type": "code",
        "colab": {
          "base_uri": "https://localhost:8080/",
          "height": 827
        },
        "outputId": "95c1b99b-b7f7-4af6-95d4-a8bd6832def2"
      },
      "source": [
        "pip install googletrans"
      ],
      "execution_count": null,
      "outputs": [
        {
          "output_type": "stream",
          "text": [
            "Collecting googletrans\n",
            "  Downloading https://files.pythonhosted.org/packages/71/3a/3b19effdd4c03958b90f40fe01c93de6d5280e03843cc5adf6956bfc9512/googletrans-3.0.0.tar.gz\n",
            "Collecting httpx==0.13.3\n",
            "\u001b[?25l  Downloading https://files.pythonhosted.org/packages/54/b4/698b284c6aed4d7c2b4fe3ba5df1fcf6093612423797e76fbb24890dd22f/httpx-0.13.3-py3-none-any.whl (55kB)\n",
            "\u001b[K     |████████████████████████████████| 61kB 5.5MB/s \n",
            "\u001b[?25hCollecting httpcore==0.9.*\n",
            "\u001b[?25l  Downloading https://files.pythonhosted.org/packages/dd/d5/e4ff9318693ac6101a2095e580908b591838c6f33df8d3ee8dd953ba96a8/httpcore-0.9.1-py3-none-any.whl (42kB)\n",
            "\u001b[K     |████████████████████████████████| 51kB 6.6MB/s \n",
            "\u001b[?25hCollecting sniffio\n",
            "  Downloading https://files.pythonhosted.org/packages/b3/82/4bd4b7d9c0d1dc0fbfbc2a1e00138e7f3ab85bc239358fe9b78aa2ab586d/sniffio-1.1.0-py3-none-any.whl\n",
            "Collecting hstspreload\n",
            "\u001b[?25l  Downloading https://files.pythonhosted.org/packages/55/8b/5adb4f33ec2555122b15fdbf6c7fc5d59dafde7f0d3289adb5dee6843ad3/hstspreload-2020.7.29-py3-none-any.whl (926kB)\n",
            "\u001b[K     |████████████████████████████████| 931kB 15.9MB/s \n",
            "\u001b[?25hRequirement already satisfied: certifi in /usr/local/lib/python3.6/dist-packages (from httpx==0.13.3->googletrans) (2020.6.20)\n",
            "Requirement already satisfied: idna==2.* in /usr/local/lib/python3.6/dist-packages (from httpx==0.13.3->googletrans) (2.10)\n",
            "Requirement already satisfied: chardet==3.* in /usr/local/lib/python3.6/dist-packages (from httpx==0.13.3->googletrans) (3.0.4)\n",
            "Collecting rfc3986<2,>=1.3\n",
            "  Downloading https://files.pythonhosted.org/packages/78/be/7b8b99fd74ff5684225f50dd0e865393d2265656ef3b4ba9eaaaffe622b8/rfc3986-1.4.0-py2.py3-none-any.whl\n",
            "Collecting h11<0.10,>=0.8\n",
            "\u001b[?25l  Downloading https://files.pythonhosted.org/packages/5a/fd/3dad730b0f95e78aeeb742f96fa7bbecbdd56a58e405d3da440d5bfb90c6/h11-0.9.0-py2.py3-none-any.whl (53kB)\n",
            "\u001b[K     |████████████████████████████████| 61kB 8.0MB/s \n",
            "\u001b[?25hCollecting h2==3.*\n",
            "\u001b[?25l  Downloading https://files.pythonhosted.org/packages/25/de/da019bcc539eeab02f6d45836f23858ac467f584bfec7a526ef200242afe/h2-3.2.0-py2.py3-none-any.whl (65kB)\n",
            "\u001b[K     |████████████████████████████████| 71kB 8.3MB/s \n",
            "\u001b[?25hCollecting contextvars>=2.1; python_version < \"3.7\"\n",
            "  Downloading https://files.pythonhosted.org/packages/83/96/55b82d9f13763be9d672622e1b8106c85acb83edd7cc2fa5bc67cd9877e9/contextvars-2.4.tar.gz\n",
            "Collecting hpack<4,>=3.0\n",
            "  Downloading https://files.pythonhosted.org/packages/8a/cc/e53517f4a1e13f74776ca93271caef378dadec14d71c61c949d759d3db69/hpack-3.0.0-py2.py3-none-any.whl\n",
            "Collecting hyperframe<6,>=5.2.0\n",
            "  Downloading https://files.pythonhosted.org/packages/19/0c/bf88182bcb5dce3094e2f3e4fe20db28a9928cb7bd5b08024030e4b140db/hyperframe-5.2.0-py2.py3-none-any.whl\n",
            "Collecting immutables>=0.9\n",
            "\u001b[?25l  Downloading https://files.pythonhosted.org/packages/99/e0/ea6fd4697120327d26773b5a84853f897a68e33d3f9376b00a8ff96e4f63/immutables-0.14-cp36-cp36m-manylinux1_x86_64.whl (98kB)\n",
            "\u001b[K     |████████████████████████████████| 102kB 10.2MB/s \n",
            "\u001b[?25hBuilding wheels for collected packages: googletrans, contextvars\n",
            "  Building wheel for googletrans (setup.py) ... \u001b[?25l\u001b[?25hdone\n",
            "  Created wheel for googletrans: filename=googletrans-3.0.0-cp36-none-any.whl size=15736 sha256=2479e8d695c399e711f3205d0c0b01d340af6814e58c108d3af4963b2bf15be4\n",
            "  Stored in directory: /root/.cache/pip/wheels/28/1a/a7/eaf4d7a3417a0c65796c547cff4deb6d79c7d14c2abd29273e\n",
            "  Building wheel for contextvars (setup.py) ... \u001b[?25l\u001b[?25hdone\n",
            "  Created wheel for contextvars: filename=contextvars-2.4-cp36-none-any.whl size=7666 sha256=6a7e77a19e6dcf878ad5d6f95d17e5dd9175e31ebff194003a5b1523de4cfdf9\n",
            "  Stored in directory: /root/.cache/pip/wheels/a5/7d/68/1ebae2668bda2228686e3c1cf16f2c2384cea6e9334ad5f6de\n",
            "Successfully built googletrans contextvars\n",
            "Installing collected packages: h11, immutables, contextvars, sniffio, hpack, hyperframe, h2, httpcore, hstspreload, rfc3986, httpx, googletrans\n",
            "Successfully installed contextvars-2.4 googletrans-3.0.0 h11-0.9.0 h2-3.2.0 hpack-3.0.0 hstspreload-2020.7.29 httpcore-0.9.1 httpx-0.13.3 hyperframe-5.2.0 immutables-0.14 rfc3986-1.4.0 sniffio-1.1.0\n"
          ],
          "name": "stdout"
        }
      ]
    },
    {
      "cell_type": "code",
      "metadata": {
        "id": "AjiT57dbIcmY",
        "colab_type": "code",
        "colab": {
          "base_uri": "https://localhost:8080/",
          "height": 164
        },
        "outputId": "fc20fa75-2341-4150-8d09-1d10b95a0943"
      },
      "source": [
        "!git clone https://github.com/anoopkunchukuttan/indic_nlp_resources.git"
      ],
      "execution_count": null,
      "outputs": [
        {
          "output_type": "stream",
          "text": [
            "Cloning into 'indic_nlp_resources'...\n",
            "remote: Enumerating objects: 7, done.\u001b[K\n",
            "remote: Counting objects: 100% (7/7), done.\u001b[K\n",
            "remote: Compressing objects: 100% (7/7), done.\u001b[K\n",
            "remote: Total 133 (delta 0), reused 2 (delta 0), pack-reused 126\u001b[K\n",
            "Receiving objects: 100% (133/133), 149.77 MiB | 13.97 MiB/s, done.\n",
            "Resolving deltas: 100% (51/51), done.\n",
            "Checking out files: 100% (28/28), done.\n"
          ],
          "name": "stdout"
        }
      ]
    },
    {
      "cell_type": "code",
      "metadata": {
        "id": "hCj8GPnWInxg",
        "colab_type": "code",
        "colab": {
          "base_uri": "https://localhost:8080/",
          "height": 124,
          "referenced_widgets": [
            "b4454747315341479a9f25a4c19ce071",
            "b2683be1b1bb4e6b97739b6419e04c9d",
            "be106497051f46a8b687491061179d38",
            "c794f1b272884c2385417b0f00ec34ce",
            "eaac64758d7d4ab98811b44e9bf4d7b7",
            "1f429b05cc404e778ba5735a4582795e",
            "d45451e4033140408e2360f1290a86a2",
            "fbb4602396164294add5fd5d31e7c9d8"
          ]
        },
        "outputId": "fb58b37a-b5ca-47e9-867e-33f6661c6671"
      },
      "source": [
        "from googletrans import Translator\n",
        "\n",
        "translator = Translator()\n",
        "  \n",
        "\n",
        "from tqdm import tqdm_notebook as tqdm\n",
        "tqdm().pandas()"
      ],
      "execution_count": null,
      "outputs": [
        {
          "output_type": "stream",
          "text": [
            "/usr/local/lib/python3.6/dist-packages/ipykernel_launcher.py:7: TqdmDeprecationWarning: This function will be removed in tqdm==5.0.0\n",
            "Please use `tqdm.notebook.tqdm` instead of `tqdm.tqdm_notebook`\n",
            "  import sys\n"
          ],
          "name": "stderr"
        },
        {
          "output_type": "display_data",
          "data": {
            "application/vnd.jupyter.widget-view+json": {
              "model_id": "b4454747315341479a9f25a4c19ce071",
              "version_minor": 0,
              "version_major": 2
            },
            "text/plain": [
              "HBox(children=(FloatProgress(value=1.0, bar_style='info', max=1.0), HTML(value='')))"
            ]
          },
          "metadata": {
            "tags": []
          }
        }
      ]
    },
    {
      "cell_type": "code",
      "metadata": {
        "id": "6Q_pxt11JTcZ",
        "colab_type": "code",
        "colab": {
          "base_uri": "https://localhost:8080/",
          "referenced_widgets": [
            "853b5909296047dbbb4ded931d9e70d9",
            "63570953d359449c868a399f4f24c5eb",
            "dc04786242464b27b098e9265a83079c",
            "2f0245532ea045f6be35d06bd11f4bea"
          ]
        },
        "outputId": "9d240a68-c233-4dee-8137-6629c9d85634"
      },
      "source": [
        "## hindi\n",
        "hindi_df = pd.DataFrame(columns=['@id','@line','author','time','text','sequence','sexual_predator','predator_conversation'])\n",
        "k = 0\n",
        "for idx,row in tqdm(predator_df.iterrows()):\n",
        "  # translation eng to hindi\n",
        "  translated_obj = translator.translate(str(row['text']), dest='hi')\n",
        "  newText = translator.translate(translated_obj.text,src=\"hi\", dest='en').text\n",
        "  newId = str(row['@id']) + 'hindi'\n",
        "  my_dic = {'@id': newId,'@line': row['@line'],\n",
        "                   'author': row['author'],'time': row['time'],\n",
        "                   'text': newText,'sequence': row['sequence'],\n",
        "                   'sexual_predator':row['sexual_predator'],\n",
        "                   'predator_conversation': row['predator_conversation']}\n",
        "  hindi_df = hindi_df.append(my_dic,ignore_index=True)\n",
        "  \n",
        "hindi_df.sample(5)"
      ],
      "execution_count": null,
      "outputs": [
        {
          "output_type": "stream",
          "text": [
            "\n"
          ],
          "name": "stdout"
        },
        {
          "output_type": "stream",
          "text": [
            "/usr/local/lib/python3.6/dist-packages/ipykernel_launcher.py:4: TqdmDeprecationWarning: This function will be removed in tqdm==5.0.0\n",
            "Please use `tqdm.notebook.tqdm` instead of `tqdm.tqdm_notebook`\n",
            "  after removing the cwd from sys.path.\n"
          ],
          "name": "stderr"
        },
        {
          "output_type": "display_data",
          "data": {
            "application/vnd.jupyter.widget-view+json": {
              "model_id": "853b5909296047dbbb4ded931d9e70d9",
              "version_minor": 0,
              "version_major": 2
            },
            "text/plain": [
              "HBox(children=(FloatProgress(value=1.0, bar_style='info', max=1.0), HTML(value='')))"
            ]
          },
          "metadata": {
            "tags": []
          }
        }
      ]
    },
    {
      "cell_type": "code",
      "metadata": {
        "id": "hqpYPEFvb0N8",
        "colab_type": "code",
        "colab": {}
      },
      "source": [
        "hindi_df.to_csv('/content/drive/My Drive/hindi.csv', index=False)\n"
      ],
      "execution_count": null,
      "outputs": []
    }
  ]
}